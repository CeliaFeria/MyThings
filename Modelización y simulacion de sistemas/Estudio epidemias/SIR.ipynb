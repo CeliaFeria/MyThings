{
  "nbformat": 4,
  "nbformat_minor": 0,
  "metadata": {
    "colab": {
      "name": "SIR.ipynb",
      "provenance": []
    },
    "kernelspec": {
      "name": "python3",
      "display_name": "Python 3"
    },
    "language_info": {
      "name": "python"
    }
  },
  "cells": [
    {
      "cell_type": "code",
      "execution_count": null,
      "metadata": {
        "id": "luQYJg6k8k6_"
      },
      "outputs": [],
      "source": [
        "import numpy as np\n",
        "from scipy.integrate import odeint\n",
        "import matplotlib.pyplot as plt\n",
        "\n",
        "#SIR model \n",
        "\n",
        "def mySIR(x,t,param):\n",
        "    \n",
        "    dxdt1 = -(param[0]*x[0]*x[1])\n",
        "    dxdt2 = param[0]*x[0]*x[1] - param[1]*x[1]\n",
        "    dxdt3 = param[1]*x[1]\n",
        "    \n",
        "    return np.asarray([dxdt1,dxdt2,dxdt3])"
      ]
    },
    {
      "cell_type": "code",
      "source": [
        "# The input to odeint is: (1) the function with the ODE system (which must itself have y and t as first and second inputs); (2) the starting composition y0; (3) the vector of times for which we want to get results; (4) optionally, additional arguments for the ODE system function (in our case, the parameters of the LV model). Note that the additional arguments must be given as a tuple: if there is only one additional parameter, as here, we still need to rite it in parentheses and followed by a comma.\n",
        "\n",
        "# Settings\n",
        "y0 = np.asarray([500,10,0])  \t# Starting composition\n",
        "param = np.asarray([0.002,0.07])  \t# Vector with the parameters of LV\n",
        "tspan = np.asarray([0,60])\t# Start and end times\n",
        "Dt = 0.1\t\t\t# Time interval to record results. Note that this is NOT the integration time step (which is automatically determined bu odeint).\n",
        "\n",
        "# Prepare accessory variables\n",
        "nsteps = int((tspan[1]-tspan[0])/Dt)\n",
        "t2 = np.linspace(tspan[0],tspan[1],nsteps)\n",
        "\n",
        "# Run odeint\n",
        "y2 = odeint(mySIR, y0, t2, args=(param,))\n",
        "\n",
        "# Plot results vs time\n",
        "fig = plt.figure()\n",
        "l2 = plt.plot(t2, y2)\n",
        "fig.legend(l2, ('susceptible', 'infected', 'recovered'), 'upper right')\n",
        "plt.xlabel('t')\n",
        "plt.show()\n",
        "\n",
        "# Plot trajectories on the phase space\n",
        "fig = plt.figure()\n",
        "l2 = plt.plot(y2[:,0], y2[:,1], y2[:,2])\n",
        "plt.xlabel('susceptible')\n",
        "plt.xlabel('infected')\n",
        "plt.xlabel('recovered')\n",
        "plt.show()\n"
      ],
      "metadata": {
        "id": "HNYDfrWT9jRi"
      },
      "execution_count": null,
      "outputs": []
    },
    {
      "cell_type": "code",
      "source": [
        "#searching for endemic states\n",
        "y0 = np.asarray([1000,10,0])  \t# Starting composition\n",
        "param = np.asarray([0.5,0.1])  \t# Vector with the parameters of LV\n",
        "tspan = np.asarray([0,360])\t# Start and end times\n",
        "Dt = 0.1\t\t\t# Time interval to record results. Note that this is NOT the integration time step (which is automatically determined bu odeint).\n",
        "\n",
        "# Prepare accessory variables\n",
        "nsteps = int((tspan[1]-tspan[0])/Dt)\n",
        "t2 = np.linspace(tspan[0],tspan[1],nsteps)\n",
        "\n",
        "# Run odeint\n",
        "y2 = odeint(mySIR, y0, t2, args=(param,))\n",
        "\n",
        "# Plot results vs time\n",
        "fig = plt.figure()\n",
        "l2 = plt.plot(t2, y2)\n",
        "fig.legend(l2, ('susceptible', 'infected', 'recovered'), 'upper right')\n",
        "plt.xlabel('t')\n",
        "plt.show()\n",
        "\n",
        "# Plot trajectories on the phase space\n",
        "fig = plt.figure()\n",
        "l2 = plt.plot(y2[:,0], y2[:,1])\n",
        "plt.ylabel('susceptible')\n",
        "plt.xlabel('infected')\n",
        "plt.show()"
      ],
      "metadata": {
        "id": "P8vyLZAx9xc8"
      },
      "execution_count": null,
      "outputs": []
    }
  ]
}