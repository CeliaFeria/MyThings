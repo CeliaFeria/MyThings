{
  "nbformat": 4,
  "nbformat_minor": 0,
  "metadata": {
    "colab": {
      "name": "Celullar_automaton.ipynb",
      "provenance": []
    },
    "kernelspec": {
      "name": "python3",
      "display_name": "Python 3"
    },
    "language_info": {
      "name": "python"
    }
  },
  "cells": [
    {
      "cell_type": "code",
      "metadata": {
        "id": "WwPqCrU9PFJb"
      },
      "source": [
        "# import libraries\n",
        "import numpy as np\n",
        "import matplotlib.pyplot as plt\n",
        "import matplotlib.animation as animation\n",
        "\n",
        "# ignore warnings\n",
        "import warnings\n",
        "warnings.filterwarnings(\"ignore\")\n",
        "\n",
        "\n",
        "#https://github.com/IlievskiV/Amusive-Blogging-N-Coding/blob/master/Cellular%20Automata/cellular_automata.ipynb"
      ],
      "execution_count": null,
      "outputs": []
    },
    {
      "cell_type": "code",
      "metadata": {
        "id": "2fUSR050Rai9"
      },
      "source": [
        "import numpy as np\n",
        "\n",
        "powers_of_two = np.array([[4], [2], [1]])  # shape (3, 1)\n",
        "\n",
        "def step(x, rule_binary):\n",
        "    \"\"\"Makes one step in the cellular automaton.\n",
        "    Args:\n",
        "        x (np.array): current state of the automaton\n",
        "        rule_binary (np.array): the update rule\n",
        "    Returns:\n",
        "        np.array: updated state of the automaton\n",
        "    \"\"\"\n",
        "    x_shift_right = np.roll(x, 1)  # circular shift to right\n",
        "    x_shift_left = np.roll(x, -1)  # circular shift to left\n",
        "    y = np.vstack((x_shift_right, x, x_shift_left)).astype(np.int8)  # stack row-wise, shape (3, cols)\n",
        "    z = np.sum(powers_of_two * y, axis=0).astype(np.int8)  # LCR pattern as number\n",
        "\n",
        "    return rule_binary[7 - z]"
      ],
      "execution_count": null,
      "outputs": []
    },
    {
      "cell_type": "code",
      "metadata": {
        "id": "OlWbLcjbQCQI"
      },
      "source": [
        "import numpy as np\n",
        "\n",
        "def cellular_automaton(rule_number, size, steps,\n",
        "                       init_cond='random', impulse_pos='center'):\n",
        "    \"\"\"Generate the state of an elementary cellular automaton after a pre-determined\n",
        "    number of steps starting from some random state.\n",
        "    Args:\n",
        "        rule_number (int): the number of the update rule to use\n",
        "        size (int): number of cells in the row\n",
        "        steps (int): number of steps to evolve the automaton\n",
        "        init_cond (str): either `random` or `impulse`. If `random` every cell\n",
        "        in the row is activated with prob. 0.5. If `impulse` only one cell\n",
        "        is activated.\n",
        "        impulse_pos (str): if `init_cond` is `impulse`, activate the\n",
        "        left-most, central or right-most cell.\n",
        "    Returns:\n",
        "        np.array: final state of the automaton\n",
        "    \"\"\"\n",
        "    assert 0 <= rule_number <= 255\n",
        "    assert init_cond in ['random', 'impulse']\n",
        "    assert impulse_pos in ['left', 'center', 'right']\n",
        "    \n",
        "    rule_binary_str = np.binary_repr(rule_number, width=8)\n",
        "    rule_binary = np.array([int(ch) for ch in rule_binary_str], dtype=np.int8)\n",
        "    x = np.zeros((steps, size), dtype=np.int8)\n",
        "    \n",
        "    if init_cond == 'random':  # random init of the first step\n",
        "        x[0, :] = np.array(np.random.rand(size) < 0.5, dtype=np.int8)\n",
        "\n",
        "    if init_cond == 'impulse':  # starting with an initial impulse\n",
        "        if impulse_pos == 'left':\n",
        "            x[0, 0] = 1\n",
        "        elif impulse_pos == 'right':\n",
        "            x[0, size - 1] = 1\n",
        "        else:\n",
        "            x[0, size // 2] = 1\n",
        "    \n",
        "    for i in range(steps - 1):\n",
        "        x[i + 1, :] = step(x[i, :], rule_binary)\n",
        "    \n",
        "    return x"
      ],
      "execution_count": null,
      "outputs": []
    },
    {
      "cell_type": "code",
      "metadata": {
        "id": "n3mGDMAAQZYK"
      },
      "source": [
        "rule_number = 73  # select the update rule\n",
        "size = 150  # number of cells in one row\n",
        "steps = 256  # number of time steps\n",
        "init_cond='impulse'  # start with only one cell\n",
        "impulse_pos='center'  # start with the left-most cell\n",
        "\n",
        "x = cellular_automaton(rule_number, size, steps, init_cond, impulse_pos)"
      ],
      "execution_count": null,
      "outputs": []
    },
    {
      "cell_type": "code",
      "metadata": {
        "colab": {
          "base_uri": "https://localhost:8080/",
          "height": 575
        },
        "id": "CUm3gi9XQczB",
        "outputId": "ba13e194-5c5d-46e0-ea9e-a336053bec00"
      },
      "source": [
        "fig = plt.figure(figsize=(10, 10))\n",
        "\n",
        "ax = plt.axes()\n",
        "ax.set_axis_off()\n",
        "\n",
        "ax.imshow(x, interpolation='none',cmap='RdPu')\n",
        "plt.savefig('elementary_cellular_automaton.png', dpi=300, bbox_inches='tight')"
      ],
      "execution_count": null,
      "outputs": [
        {
          "output_type": "display_data",
          "data": {
            "image/png": "[encoded data removed]",
            "text/plain": [
              "<Figure size 720x720 with 1 Axes>"
            ]
          },
          "metadata": {
            "needs_background": "light"
          }
        }
      ]
    },
    {
      "cell_type": "code",
      "metadata": {
        "id": "s-xUuJJafNg7"
      },
      "source": [
        "rule_number = 136  # select the update rule\n",
        "size = 20 # number of cells in one row\n",
        "steps = 20  # number of time steps\n",
        "init_cond='impulse'  # start with only one cell\n",
        "impulse_pos='center'  # start with the left-most cell\n",
        "\n",
        "x = cellular_automaton(rule_number, size, steps, init_cond, impulse_pos)"
      ],
      "execution_count": null,
      "outputs": []
    },
    {
      "cell_type": "code",
      "metadata": {
        "colab": {
          "base_uri": "https://localhost:8080/",
          "height": 683
        },
        "id": "9popyufffSyF",
        "outputId": "50c81a6a-6cd1-48f4-9569-8409c393e259"
      },
      "source": [
        "fig = plt.figure(figsize=(12, 12))\n",
        "\n",
        "ax = plt.axes()\n",
        "ax.set_axis_off()\n",
        "\n",
        "ax.imshow(x, interpolation='none',cmap='RdPu')\n",
        "plt.savefig('elementary_cellular_automaton.png', dpi=300, bbox_inches='tight')"
      ],
      "execution_count": null,
      "outputs": [
        {
          "output_type": "display_data",
          "data": {
            "image/png": "[encoded data removed]",
            "text/plain": [
              "<Figure size 864x864 with 1 Axes>"
            ]
          },
          "metadata": {
            "needs_background": "light"
          }
        }
      ]
    },
    {
      "cell_type": "code",
      "metadata": {
        "id": "NYzz-jEjf6AR"
      },
      "source": [
        "rule_number = 184  # select the update rule\n",
        "size = 150  # number of cells in one row\n",
        "steps = 256  # number of time steps\n",
        "init_cond='impulse'  # start with only one cell\n",
        "impulse_pos='center'  # start with the left-most cell\n",
        "\n",
        "x = cellular_automaton(rule_number, size, steps, init_cond, impulse_pos)"
      ],
      "execution_count": null,
      "outputs": []
    },
    {
      "cell_type": "code",
      "metadata": {
        "colab": {
          "base_uri": "https://localhost:8080/",
          "height": 575
        },
        "id": "LjB74mqGf6vV",
        "outputId": "5a844f82-c30f-463b-c367-eb229bc4ce32"
      },
      "source": [
        "fig = plt.figure(figsize=(10, 10))\n",
        "\n",
        "ax = plt.axes()\n",
        "ax.set_axis_off()\n",
        "\n",
        "ax.imshow(x, interpolation='none',cmap='RdPu')\n",
        "plt.savefig('elementary_cellular_automaton.png', dpi=300, bbox_inches='tight')"
      ],
      "execution_count": null,
      "outputs": [
        {
          "output_type": "display_data",
          "data": {
            "image/png": "[encoded data removed]",
            "text/plain": [
              "<Figure size 720x720 with 1 Axes>"
            ]
          },
          "metadata": {
            "needs_background": "light"
          }
        }
      ]
    },
    {
      "cell_type": "markdown",
      "metadata": {
        "id": "ysWGVqkMSpeM"
      },
      "source": [
        "4.2"
      ]
    },
    {
      "cell_type": "code",
      "metadata": {
        "id": "__iB8KTVSrIM"
      },
      "source": [
        ""
      ],
      "execution_count": null,
      "outputs": []
    }
  ]
}